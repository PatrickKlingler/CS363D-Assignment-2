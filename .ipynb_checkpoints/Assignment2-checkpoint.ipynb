{
 "cells": [
  {
   "cell_type": "markdown",
   "metadata": {},
   "source": [
    "## Name(s):"
   ]
  },
  {
   "cell_type": "markdown",
   "metadata": {
    "collapsed": true
   },
   "source": [
    "## Jorge Hernandez\n",
    "## Patrick Klingler"
   ]
  },
  {
   "cell_type": "markdown",
   "metadata": {},
   "source": [
    "# Assignment 2: Intro to Clustering\n",
    "\n",
    "In this assignment we'll be looking at three popular types of clustering algorithms -- K-Means clustering, Hierarchical clustering and Density Based clustering. We'll also look at some measures of cluster quality like cohesion, separation and silhoutte coefficient."
   ]
  },
  {
   "cell_type": "markdown",
   "metadata": {},
   "source": [
    "## Part 1: K Means Clustering\n",
    "\n",
    "In k means clustering you are given a dataset and a hyperparameter k specifying the number of desired of output clusters. The basic idea of k means is to minimize the sum of squared error (SSE) of the output clusters. Unfortunately, the solution to this problem is NP Hard. In this assignment we'll be implementing the iterative algorithm that produces the locally optimal solution to this problem but, guarantees convergence."
   ]
  },
  {
   "cell_type": "code",
   "execution_count": 2,
   "metadata": {
    "collapsed": true
   },
   "outputs": [],
   "source": [
    "# Some headers\n",
    "import random\n",
    "import numpy as np\n",
    "import pandas as pd\n",
    "import matplotlib.pyplot as plt\n",
    "from numpy.random import rand\n",
    "from numpy.random import randint\n",
    "from numpy import square, sqrt\n",
    "import seaborn as sns\n",
    "sns.set()"
   ]
  },
  {
   "cell_type": "code",
   "execution_count": 3,
   "metadata": {
    "collapsed": true
   },
   "outputs": [],
   "source": [
    "# Enable inline mode for matplotlib so that IPython displays graphs.\n",
    "%matplotlib inline"
   ]
  },
  {
   "cell_type": "code",
   "execution_count": 4,
   "metadata": {
    "collapsed": true
   },
   "outputs": [],
   "source": [
    "# get data from text file\n",
    "data = np.genfromtxt(\"data.csv\", delimiter=\",\")\n"
   ]
  },
  {
   "cell_type": "code",
   "execution_count": 5,
   "metadata": {},
   "outputs": [
    {
     "data": {
      "text/html": [
       "<div>\n",
       "<style>\n",
       "    .dataframe thead tr:only-child th {\n",
       "        text-align: right;\n",
       "    }\n",
       "\n",
       "    .dataframe thead th {\n",
       "        text-align: left;\n",
       "    }\n",
       "\n",
       "    .dataframe tbody tr th {\n",
       "        vertical-align: top;\n",
       "    }\n",
       "</style>\n",
       "<table border=\"1\" class=\"dataframe\">\n",
       "  <thead>\n",
       "    <tr style=\"text-align: right;\">\n",
       "      <th></th>\n",
       "      <th>0</th>\n",
       "      <th>1</th>\n",
       "    </tr>\n",
       "  </thead>\n",
       "  <tbody>\n",
       "    <tr>\n",
       "      <th>0</th>\n",
       "      <td>-0.731698</td>\n",
       "      <td>-0.874311</td>\n",
       "    </tr>\n",
       "    <tr>\n",
       "      <th>1</th>\n",
       "      <td>-0.547702</td>\n",
       "      <td>-0.580320</td>\n",
       "    </tr>\n",
       "    <tr>\n",
       "      <th>2</th>\n",
       "      <td>-0.762840</td>\n",
       "      <td>-0.885572</td>\n",
       "    </tr>\n",
       "    <tr>\n",
       "      <th>3</th>\n",
       "      <td>-0.340946</td>\n",
       "      <td>-0.810411</td>\n",
       "    </tr>\n",
       "    <tr>\n",
       "      <th>4</th>\n",
       "      <td>-0.749065</td>\n",
       "      <td>-0.399218</td>\n",
       "    </tr>\n",
       "  </tbody>\n",
       "</table>\n",
       "</div>"
      ],
      "text/plain": [
       "          0         1\n",
       "0 -0.731698 -0.874311\n",
       "1 -0.547702 -0.580320\n",
       "2 -0.762840 -0.885572\n",
       "3 -0.340946 -0.810411\n",
       "4 -0.749065 -0.399218"
      ]
     },
     "execution_count": 5,
     "metadata": {},
     "output_type": "execute_result"
    }
   ],
   "source": [
    "data_pd = pd.read_csv(\"data.csv\", header=None)\n",
    "data_pd.head()"
   ]
  },
  {
   "cell_type": "code",
   "execution_count": 6,
   "metadata": {},
   "outputs": [
    {
     "data": {
      "text/plain": [
       "'1.12.1'"
      ]
     },
     "execution_count": 6,
     "metadata": {},
     "output_type": "execute_result"
    }
   ],
   "source": [
    "np.__version__"
   ]
  },
  {
   "cell_type": "code",
   "execution_count": 7,
   "metadata": {
    "collapsed": true
   },
   "outputs": [],
   "source": [
    "def euclid_distance(point, point2):\n",
    "    dist = 0\n",
    "    for p, p2 in zip(point, point2):\n",
    "        dist += (p - p2)**2\n",
    "    return dist**.5\n",
    "def distance_matrix(data, data2):\n",
    "    matrix = []\n",
    "    for point in data:\n",
    "        matrix.append([euclid_distance(point, point2)  for point2 in data2])\n",
    "    return matrix"
   ]
  },
  {
   "cell_type": "markdown",
   "metadata": {},
   "source": [
    "Q1. Implement the function `generateClusters` that returns clusters, given the cluster centroids (`mu`) and the dataset (`data`). Each datapoint needs to be associated to the closest cluster centroid."
   ]
  },
  {
   "cell_type": "code",
   "execution_count": 8,
   "metadata": {
    "collapsed": true
   },
   "outputs": [],
   "source": [
    "def generateClusters(data, mu):\n",
    "    # your code goes here\n",
    "    distances = distance_matrix(data, mu) # Manhattan distance\n",
    "    clusters = [[] for _ in mu]\n",
    "    for data_point, dist in zip(data, distances):\n",
    "        clusters[np.argmin(dist)].append(data_point)\n",
    "    return clusters\n",
    "\n",
    "#clusters = generateClusters(data, data[randint(0, len(data), 3)])"
   ]
  },
  {
   "cell_type": "markdown",
   "metadata": {},
   "source": [
    "Q2. Implement the function `recompute_centroids` that returns the centroids given a set of input clusters. Hint: you need to calculate the mean for each cluster."
   ]
  },
  {
   "cell_type": "code",
   "execution_count": 9,
   "metadata": {
    "collapsed": true
   },
   "outputs": [],
   "source": [
    "def recompute_centroids(clusters):\n",
    "    new_centroids = []\n",
    "    # slow way of getting the meanc coords\n",
    "    # but explicitly shows what is the goal\n",
    "    for cluster in clusters:\n",
    "        # a cluster will be a list of coordinates and we \n",
    "        # want to calculate the mean for every dimension\n",
    "        entries = len(cluster)\n",
    "        if entries == 0:\n",
    "            continue\n",
    "        x = 0\n",
    "        y = 0\n",
    "        for coord in cluster:\n",
    "            x += coord[0]\n",
    "            y += coord[1]\n",
    "        new_centroids.append([x/entries, y/entries])\n",
    "    return new_centroids"
   ]
  },
  {
   "cell_type": "markdown",
   "metadata": {},
   "source": [
    "Q3. Implement the function `checkConvergence` that checks if the termination condition of k means algorithm has reached, i.e. the previous centroids are the same as the new centroids. "
   ]
  },
  {
   "cell_type": "code",
   "execution_count": 10,
   "metadata": {
    "collapsed": true
   },
   "outputs": [],
   "source": [
    "def checkConvergence(mu, previous_mu):\n",
    "    # your code goes here\n",
    "    if previous_mu == None:\n",
    "        # have not converged\n",
    "        return False\n",
    "    return mu == previous_mu"
   ]
  },
  {
   "cell_type": "markdown",
   "metadata": {},
   "source": [
    "Q4. Implement the function `kMeansClustering` that returns k clusters along with their centroids given the input dataset and the desired number of clusters (`k`)."
   ]
  },
  {
   "cell_type": "code",
   "execution_count": 11,
   "metadata": {
    "collapsed": true
   },
   "outputs": [],
   "source": [
    "def kMeansClustering(data, k):\n",
    "    rand_centroids = data[randint(0, len(data), k)]\n",
    "    clusters = generateClusters(data, rand_centroids)\n",
    "    mu = recompute_centroids(clusters)\n",
    "    previous_mu = None\n",
    "    \n",
    "    while not checkConvergence(mu, previous_mu):\n",
    "        clusters = generateClusters(data, mu)\n",
    "        previous_mu = mu\n",
    "        mu = recompute_centroids(clusters)\n",
    "        \n",
    "    return(mu, clusters)"
   ]
  },
  {
   "cell_type": "markdown",
   "metadata": {},
   "source": [
    "Q5. Cluster the data present in `data.csv` using `kMeansClustering` with `k = 5`. Display the clusters using `plt.scatter`, make sure to mark different clusters with a different color. Also calculate the average cohesion and separation for the generated clusters."
   ]
  },
  {
   "cell_type": "code",
   "execution_count": 15,
   "metadata": {},
   "outputs": [
    {
     "data": {
      "image/png": "[encoded data removed]",
      "text/plain": [
       "<matplotlib.figure.Figure at 0x7faca0e86fd0>"
      ]
     },
     "metadata": {},
     "output_type": "display_data"
    }
   ],
   "source": [
    "# your code goes here\n",
    "def get_coords(cluster):\n",
    "    x_list = []\n",
    "    y_list = []\n",
    "    for coord in cluster:\n",
    "        x_list.append(coord[0])\n",
    "        y_list.append(coord[1])\n",
    "    return x_list, y_list\n",
    "    \n",
    "mu, clusters = kMeansClustering(data, 5)\n",
    "colors = sns.color_palette()\n",
    "for i, cl in enumerate(clusters):\n",
    "    x_coord, y_coord = get_coords(cl)\n",
    "    plt.scatter(x_coord, y_coord, c=colors[i], lw=0, s=30)\n",
    "plt.show()"
   ]
  },
  {
   "cell_type": "markdown",
   "metadata": {},
   "source": [
    "Q. (Extra Credit) Implement kMeans++, to initialise the centroids in the k Means algorithm. Does this improve performance? Give cohesion and spearation values."
   ]
  },
  {
   "cell_type": "code",
   "execution_count": 9,
   "metadata": {
    "collapsed": true
   },
   "outputs": [],
   "source": [
    "# your code goes here\n"
   ]
  },
  {
   "cell_type": "markdown",
   "metadata": {},
   "source": [
    "## Part 2: Hierarchical Clustering\n",
    "\n",
    "For this part you'll be implementing single-linkage clustering, one of several methods of hierarchical clustering. It is based on grouping clusters in bottom-up fashion (agglomerative clustering), at each step combining two clusters that contain the closest pair of elements not yet belonging to the same cluster as each other. In the beginning of the agglomerative clustering process, each element is in a cluster of its own. The clusters are then sequentially combined into larger clusters, until all elements end up being in the same cluster. At each step, the two clusters separated by the shortest distance are combined. Here distance is defined as the euclidean distance between the two points."
   ]
  },
  {
   "cell_type": "code",
   "execution_count": 282,
   "metadata": {
    "collapsed": true
   },
   "outputs": [],
   "source": [
    "# get data from text file\n",
    "data = np.genfromtxt(\"data2.csv\", delimiter=\",\")"
   ]
  },
  {
   "cell_type": "markdown",
   "metadata": {},
   "source": [
    "Q6. Implement single-linkage clustering. Print the cophenetic correlation coefficient (CPCC) for the resultant clustering."
   ]
  },
  {
   "cell_type": "code",
   "execution_count": 289,
   "metadata": {},
   "outputs": [
    {
     "data": {
      "text/html": [
       "<div>\n",
       "<style>\n",
       "    .dataframe thead tr:only-child th {\n",
       "        text-align: right;\n",
       "    }\n",
       "\n",
       "    .dataframe thead th {\n",
       "        text-align: left;\n",
       "    }\n",
       "\n",
       "    .dataframe tbody tr th {\n",
       "        vertical-align: top;\n",
       "    }\n",
       "</style>\n",
       "<table border=\"1\" class=\"dataframe\">\n",
       "  <thead>\n",
       "    <tr style=\"text-align: right;\">\n",
       "      <th></th>\n",
       "      <th>0</th>\n",
       "      <th>1</th>\n",
       "      <th>2</th>\n",
       "      <th>3</th>\n",
       "      <th>4</th>\n",
       "      <th>5</th>\n",
       "      <th>6</th>\n",
       "      <th>7</th>\n",
       "      <th>8</th>\n",
       "      <th>9</th>\n",
       "      <th>10</th>\n",
       "      <th>11</th>\n",
       "      <th>12</th>\n",
       "      <th>13</th>\n",
       "      <th>14</th>\n",
       "      <th>15</th>\n",
       "      <th>16</th>\n",
       "      <th>17</th>\n",
       "      <th>18</th>\n",
       "      <th>19</th>\n",
       "    </tr>\n",
       "  </thead>\n",
       "  <tbody>\n",
       "    <tr>\n",
       "      <th>0</th>\n",
       "      <td>0.000000</td>\n",
       "      <td>0.167074</td>\n",
       "      <td>0.437839</td>\n",
       "      <td>0.240195</td>\n",
       "      <td>0.300417</td>\n",
       "      <td>0.188154</td>\n",
       "      <td>0.136595</td>\n",
       "      <td>0.920262</td>\n",
       "      <td>0.729939</td>\n",
       "      <td>0.652120</td>\n",
       "      <td>0.970634</td>\n",
       "      <td>0.635743</td>\n",
       "      <td>0.703489</td>\n",
       "      <td>0.805269</td>\n",
       "      <td>1.703425</td>\n",
       "      <td>1.540956</td>\n",
       "      <td>1.627469</td>\n",
       "      <td>1.651072</td>\n",
       "      <td>1.535888</td>\n",
       "      <td>1.586703</td>\n",
       "    </tr>\n",
       "    <tr>\n",
       "      <th>1</th>\n",
       "      <td>0.167074</td>\n",
       "      <td>0.000000</td>\n",
       "      <td>0.337816</td>\n",
       "      <td>0.100249</td>\n",
       "      <td>0.176018</td>\n",
       "      <td>0.076624</td>\n",
       "      <td>0.132774</td>\n",
       "      <td>0.782696</td>\n",
       "      <td>0.565505</td>\n",
       "      <td>0.485104</td>\n",
       "      <td>0.803849</td>\n",
       "      <td>0.470100</td>\n",
       "      <td>0.543545</td>\n",
       "      <td>0.638217</td>\n",
       "      <td>1.537135</td>\n",
       "      <td>1.376485</td>\n",
       "      <td>1.470859</td>\n",
       "      <td>1.491681</td>\n",
       "      <td>1.369966</td>\n",
       "      <td>1.442648</td>\n",
       "    </tr>\n",
       "    <tr>\n",
       "      <th>2</th>\n",
       "      <td>0.437839</td>\n",
       "      <td>0.337816</td>\n",
       "      <td>0.000000</td>\n",
       "      <td>0.239715</td>\n",
       "      <td>0.455586</td>\n",
       "      <td>0.406139</td>\n",
       "      <td>0.468774</td>\n",
       "      <td>0.501389</td>\n",
       "      <td>0.581576</td>\n",
       "      <td>0.443087</td>\n",
       "      <td>0.743833</td>\n",
       "      <td>0.490188</td>\n",
       "      <td>0.385481</td>\n",
       "      <td>0.569804</td>\n",
       "      <td>1.455092</td>\n",
       "      <td>1.327440</td>\n",
       "      <td>1.482427</td>\n",
       "      <td>1.484515</td>\n",
       "      <td>1.299983</td>\n",
       "      <td>1.515487</td>\n",
       "    </tr>\n",
       "    <tr>\n",
       "      <th>3</th>\n",
       "      <td>0.240195</td>\n",
       "      <td>0.100249</td>\n",
       "      <td>0.239715</td>\n",
       "      <td>0.000000</td>\n",
       "      <td>0.232553</td>\n",
       "      <td>0.166554</td>\n",
       "      <td>0.233010</td>\n",
       "      <td>0.686891</td>\n",
       "      <td>0.531842</td>\n",
       "      <td>0.430952</td>\n",
       "      <td>0.754916</td>\n",
       "      <td>0.433287</td>\n",
       "      <td>0.464684</td>\n",
       "      <td>0.583206</td>\n",
       "      <td>1.489168</td>\n",
       "      <td>1.336612</td>\n",
       "      <td>1.448848</td>\n",
       "      <td>1.464313</td>\n",
       "      <td>1.324340</td>\n",
       "      <td>1.439112</td>\n",
       "    </tr>\n",
       "    <tr>\n",
       "      <th>4</th>\n",
       "      <td>0.300417</td>\n",
       "      <td>0.176018</td>\n",
       "      <td>0.455586</td>\n",
       "      <td>0.232553</td>\n",
       "      <td>0.000000</td>\n",
       "      <td>0.114756</td>\n",
       "      <td>0.179589</td>\n",
       "      <td>0.819098</td>\n",
       "      <td>0.461462</td>\n",
       "      <td>0.423929</td>\n",
       "      <td>0.714956</td>\n",
       "      <td>0.378836</td>\n",
       "      <td>0.532229</td>\n",
       "      <td>0.567465</td>\n",
       "      <td>1.435328</td>\n",
       "      <td>1.263179</td>\n",
       "      <td>1.333070</td>\n",
       "      <td>1.360271</td>\n",
       "      <td>1.265717</td>\n",
       "      <td>1.286327</td>\n",
       "    </tr>\n",
       "    <tr>\n",
       "      <th>5</th>\n",
       "      <td>0.188154</td>\n",
       "      <td>0.076624</td>\n",
       "      <td>0.406139</td>\n",
       "      <td>0.166554</td>\n",
       "      <td>0.114756</td>\n",
       "      <td>0.000000</td>\n",
       "      <td>0.090139</td>\n",
       "      <td>0.828282</td>\n",
       "      <td>0.550375</td>\n",
       "      <td>0.488636</td>\n",
       "      <td>0.797713</td>\n",
       "      <td>0.459838</td>\n",
       "      <td>0.568908</td>\n",
       "      <td>0.639371</td>\n",
       "      <td>1.526405</td>\n",
       "      <td>1.359534</td>\n",
       "      <td>1.440013</td>\n",
       "      <td>1.464699</td>\n",
       "      <td>1.357762</td>\n",
       "      <td>1.399325</td>\n",
       "    </tr>\n",
       "    <tr>\n",
       "      <th>6</th>\n",
       "      <td>0.136595</td>\n",
       "      <td>0.132774</td>\n",
       "      <td>0.468774</td>\n",
       "      <td>0.233010</td>\n",
       "      <td>0.179589</td>\n",
       "      <td>0.090139</td>\n",
       "      <td>0.000000</td>\n",
       "      <td>0.911698</td>\n",
       "      <td>0.634460</td>\n",
       "      <td>0.578015</td>\n",
       "      <td>0.884264</td>\n",
       "      <td>0.546180</td>\n",
       "      <td>0.658332</td>\n",
       "      <td>0.728072</td>\n",
       "      <td>1.610404</td>\n",
       "      <td>1.440793</td>\n",
       "      <td>1.512434</td>\n",
       "      <td>1.539858</td>\n",
       "      <td>1.441271</td>\n",
       "      <td>1.460736</td>\n",
       "    </tr>\n",
       "    <tr>\n",
       "      <th>7</th>\n",
       "      <td>0.920262</td>\n",
       "      <td>0.782696</td>\n",
       "      <td>0.501389</td>\n",
       "      <td>0.686891</td>\n",
       "      <td>0.819098</td>\n",
       "      <td>0.828282</td>\n",
       "      <td>0.911698</td>\n",
       "      <td>0.000000</td>\n",
       "      <td>0.597986</td>\n",
       "      <td>0.484599</td>\n",
       "      <td>0.563823</td>\n",
       "      <td>0.573024</td>\n",
       "      <td>0.319740</td>\n",
       "      <td>0.469680</td>\n",
       "      <td>1.112336</td>\n",
       "      <td>1.040725</td>\n",
       "      <td>1.266438</td>\n",
       "      <td>1.241655</td>\n",
       "      <td>0.986888</td>\n",
       "      <td>1.385895</td>\n",
       "    </tr>\n",
       "    <tr>\n",
       "      <th>8</th>\n",
       "      <td>0.729939</td>\n",
       "      <td>0.565505</td>\n",
       "      <td>0.581576</td>\n",
       "      <td>0.531842</td>\n",
       "      <td>0.461462</td>\n",
       "      <td>0.550375</td>\n",
       "      <td>0.634460</td>\n",
       "      <td>0.597986</td>\n",
       "      <td>0.000000</td>\n",
       "      <td>0.145898</td>\n",
       "      <td>0.255811</td>\n",
       "      <td>0.098835</td>\n",
       "      <td>0.295107</td>\n",
       "      <td>0.150992</td>\n",
       "      <td>0.976130</td>\n",
       "      <td>0.811093</td>\n",
       "      <td>0.918901</td>\n",
       "      <td>0.932523</td>\n",
       "      <td>0.807388</td>\n",
       "      <td>0.934037</td>\n",
       "    </tr>\n",
       "    <tr>\n",
       "      <th>9</th>\n",
       "      <td>0.652120</td>\n",
       "      <td>0.485104</td>\n",
       "      <td>0.443087</td>\n",
       "      <td>0.430952</td>\n",
       "      <td>0.423929</td>\n",
       "      <td>0.488636</td>\n",
       "      <td>0.578015</td>\n",
       "      <td>0.484599</td>\n",
       "      <td>0.145898</td>\n",
       "      <td>0.000000</td>\n",
       "      <td>0.324222</td>\n",
       "      <td>0.088506</td>\n",
       "      <td>0.166252</td>\n",
       "      <td>0.153265</td>\n",
       "      <td>1.058227</td>\n",
       "      <td>0.908871</td>\n",
       "      <td>1.042818</td>\n",
       "      <td>1.049564</td>\n",
       "      <td>0.893811</td>\n",
       "      <td>1.074117</td>\n",
       "    </tr>\n",
       "    <tr>\n",
       "      <th>10</th>\n",
       "      <td>0.970634</td>\n",
       "      <td>0.803849</td>\n",
       "      <td>0.743833</td>\n",
       "      <td>0.754916</td>\n",
       "      <td>0.714956</td>\n",
       "      <td>0.797713</td>\n",
       "      <td>0.884264</td>\n",
       "      <td>0.563823</td>\n",
       "      <td>0.255811</td>\n",
       "      <td>0.324222</td>\n",
       "      <td>0.000000</td>\n",
       "      <td>0.338087</td>\n",
       "      <td>0.369478</td>\n",
       "      <td>0.175927</td>\n",
       "      <td>0.734467</td>\n",
       "      <td>0.586941</td>\n",
       "      <td>0.746978</td>\n",
       "      <td>0.742571</td>\n",
       "      <td>0.569590</td>\n",
       "      <td>0.828665</td>\n",
       "    </tr>\n",
       "    <tr>\n",
       "      <th>11</th>\n",
       "      <td>0.635743</td>\n",
       "      <td>0.470100</td>\n",
       "      <td>0.490188</td>\n",
       "      <td>0.433287</td>\n",
       "      <td>0.378836</td>\n",
       "      <td>0.459838</td>\n",
       "      <td>0.546180</td>\n",
       "      <td>0.573024</td>\n",
       "      <td>0.098835</td>\n",
       "      <td>0.088506</td>\n",
       "      <td>0.338087</td>\n",
       "      <td>0.000000</td>\n",
       "      <td>0.254660</td>\n",
       "      <td>0.192303</td>\n",
       "      <td>1.067895</td>\n",
       "      <td>0.906814</td>\n",
       "      <td>1.017670</td>\n",
       "      <td>1.031244</td>\n",
       "      <td>0.900147</td>\n",
       "      <td>1.028028</td>\n",
       "    </tr>\n",
       "    <tr>\n",
       "      <th>12</th>\n",
       "      <td>0.703489</td>\n",
       "      <td>0.543545</td>\n",
       "      <td>0.385481</td>\n",
       "      <td>0.464684</td>\n",
       "      <td>0.532229</td>\n",
       "      <td>0.568908</td>\n",
       "      <td>0.658332</td>\n",
       "      <td>0.319740</td>\n",
       "      <td>0.295107</td>\n",
       "      <td>0.166252</td>\n",
       "      <td>0.369478</td>\n",
       "      <td>0.254660</td>\n",
       "      <td>0.000000</td>\n",
       "      <td>0.208395</td>\n",
       "      <td>1.069627</td>\n",
       "      <td>0.944966</td>\n",
       "      <td>1.116291</td>\n",
       "      <td>1.111359</td>\n",
       "      <td>0.915009</td>\n",
       "      <td>1.181153</td>\n",
       "    </tr>\n",
       "    <tr>\n",
       "      <th>13</th>\n",
       "      <td>0.805269</td>\n",
       "      <td>0.638217</td>\n",
       "      <td>0.569804</td>\n",
       "      <td>0.583206</td>\n",
       "      <td>0.567465</td>\n",
       "      <td>0.639371</td>\n",
       "      <td>0.728072</td>\n",
       "      <td>0.469680</td>\n",
       "      <td>0.150992</td>\n",
       "      <td>0.153265</td>\n",
       "      <td>0.175927</td>\n",
       "      <td>0.192303</td>\n",
       "      <td>0.208395</td>\n",
       "      <td>0.000000</td>\n",
       "      <td>0.906767</td>\n",
       "      <td>0.762855</td>\n",
       "      <td>0.914682</td>\n",
       "      <td>0.914765</td>\n",
       "      <td>0.743789</td>\n",
       "      <td>0.972758</td>\n",
       "    </tr>\n",
       "    <tr>\n",
       "      <th>14</th>\n",
       "      <td>1.703425</td>\n",
       "      <td>1.537135</td>\n",
       "      <td>1.455092</td>\n",
       "      <td>1.489168</td>\n",
       "      <td>1.435328</td>\n",
       "      <td>1.526405</td>\n",
       "      <td>1.610404</td>\n",
       "      <td>1.112336</td>\n",
       "      <td>0.976130</td>\n",
       "      <td>1.058227</td>\n",
       "      <td>0.734467</td>\n",
       "      <td>1.067895</td>\n",
       "      <td>1.069627</td>\n",
       "      <td>0.906767</td>\n",
       "      <td>0.000000</td>\n",
       "      <td>0.202759</td>\n",
       "      <td>0.414619</td>\n",
       "      <td>0.333742</td>\n",
       "      <td>0.170300</td>\n",
       "      <td>0.682305</td>\n",
       "    </tr>\n",
       "    <tr>\n",
       "      <th>15</th>\n",
       "      <td>1.540956</td>\n",
       "      <td>1.376485</td>\n",
       "      <td>1.327440</td>\n",
       "      <td>1.336612</td>\n",
       "      <td>1.263179</td>\n",
       "      <td>1.359534</td>\n",
       "      <td>1.440793</td>\n",
       "      <td>1.040725</td>\n",
       "      <td>0.811093</td>\n",
       "      <td>0.908871</td>\n",
       "      <td>0.586941</td>\n",
       "      <td>0.906814</td>\n",
       "      <td>0.944966</td>\n",
       "      <td>0.762855</td>\n",
       "      <td>0.202759</td>\n",
       "      <td>0.000000</td>\n",
       "      <td>0.283261</td>\n",
       "      <td>0.223446</td>\n",
       "      <td>0.086289</td>\n",
       "      <td>0.526326</td>\n",
       "    </tr>\n",
       "    <tr>\n",
       "      <th>16</th>\n",
       "      <td>1.627469</td>\n",
       "      <td>1.470859</td>\n",
       "      <td>1.482427</td>\n",
       "      <td>1.448848</td>\n",
       "      <td>1.333070</td>\n",
       "      <td>1.440013</td>\n",
       "      <td>1.512434</td>\n",
       "      <td>1.266438</td>\n",
       "      <td>0.918901</td>\n",
       "      <td>1.042818</td>\n",
       "      <td>0.746978</td>\n",
       "      <td>1.017670</td>\n",
       "      <td>1.116291</td>\n",
       "      <td>0.914682</td>\n",
       "      <td>0.414619</td>\n",
       "      <td>0.283261</td>\n",
       "      <td>0.000000</td>\n",
       "      <td>0.083018</td>\n",
       "      <td>0.368928</td>\n",
       "      <td>0.270161</td>\n",
       "    </tr>\n",
       "    <tr>\n",
       "      <th>17</th>\n",
       "      <td>1.651072</td>\n",
       "      <td>1.491681</td>\n",
       "      <td>1.484515</td>\n",
       "      <td>1.464313</td>\n",
       "      <td>1.360271</td>\n",
       "      <td>1.464699</td>\n",
       "      <td>1.539858</td>\n",
       "      <td>1.241655</td>\n",
       "      <td>0.932523</td>\n",
       "      <td>1.049564</td>\n",
       "      <td>0.742571</td>\n",
       "      <td>1.031244</td>\n",
       "      <td>1.111359</td>\n",
       "      <td>0.914765</td>\n",
       "      <td>0.333742</td>\n",
       "      <td>0.223446</td>\n",
       "      <td>0.083018</td>\n",
       "      <td>0.000000</td>\n",
       "      <td>0.305572</td>\n",
       "      <td>0.353151</td>\n",
       "    </tr>\n",
       "    <tr>\n",
       "      <th>18</th>\n",
       "      <td>1.535888</td>\n",
       "      <td>1.369966</td>\n",
       "      <td>1.299983</td>\n",
       "      <td>1.324340</td>\n",
       "      <td>1.265717</td>\n",
       "      <td>1.357762</td>\n",
       "      <td>1.441271</td>\n",
       "      <td>0.986888</td>\n",
       "      <td>0.807388</td>\n",
       "      <td>0.893811</td>\n",
       "      <td>0.569590</td>\n",
       "      <td>0.900147</td>\n",
       "      <td>0.915009</td>\n",
       "      <td>0.743789</td>\n",
       "      <td>0.170300</td>\n",
       "      <td>0.086289</td>\n",
       "      <td>0.368928</td>\n",
       "      <td>0.305572</td>\n",
       "      <td>0.000000</td>\n",
       "      <td>0.611553</td>\n",
       "    </tr>\n",
       "    <tr>\n",
       "      <th>19</th>\n",
       "      <td>1.586703</td>\n",
       "      <td>1.442648</td>\n",
       "      <td>1.515487</td>\n",
       "      <td>1.439112</td>\n",
       "      <td>1.286327</td>\n",
       "      <td>1.399325</td>\n",
       "      <td>1.460736</td>\n",
       "      <td>1.385895</td>\n",
       "      <td>0.934037</td>\n",
       "      <td>1.074117</td>\n",
       "      <td>0.828665</td>\n",
       "      <td>1.028028</td>\n",
       "      <td>1.181153</td>\n",
       "      <td>0.972758</td>\n",
       "      <td>0.682305</td>\n",
       "      <td>0.526326</td>\n",
       "      <td>0.270161</td>\n",
       "      <td>0.353151</td>\n",
       "      <td>0.611553</td>\n",
       "      <td>0.000000</td>\n",
       "    </tr>\n",
       "  </tbody>\n",
       "</table>\n",
       "</div>"
      ],
      "text/plain": [
       "           0         1         2         3         4         5         6  \\\n",
       "0   0.000000  0.167074  0.437839  0.240195  0.300417  0.188154  0.136595   \n",
       "1   0.167074  0.000000  0.337816  0.100249  0.176018  0.076624  0.132774   \n",
       "2   0.437839  0.337816  0.000000  0.239715  0.455586  0.406139  0.468774   \n",
       "3   0.240195  0.100249  0.239715  0.000000  0.232553  0.166554  0.233010   \n",
       "4   0.300417  0.176018  0.455586  0.232553  0.000000  0.114756  0.179589   \n",
       "5   0.188154  0.076624  0.406139  0.166554  0.114756  0.000000  0.090139   \n",
       "6   0.136595  0.132774  0.468774  0.233010  0.179589  0.090139  0.000000   \n",
       "7   0.920262  0.782696  0.501389  0.686891  0.819098  0.828282  0.911698   \n",
       "8   0.729939  0.565505  0.581576  0.531842  0.461462  0.550375  0.634460   \n",
       "9   0.652120  0.485104  0.443087  0.430952  0.423929  0.488636  0.578015   \n",
       "10  0.970634  0.803849  0.743833  0.754916  0.714956  0.797713  0.884264   \n",
       "11  0.635743  0.470100  0.490188  0.433287  0.378836  0.459838  0.546180   \n",
       "12  0.703489  0.543545  0.385481  0.464684  0.532229  0.568908  0.658332   \n",
       "13  0.805269  0.638217  0.569804  0.583206  0.567465  0.639371  0.728072   \n",
       "14  1.703425  1.537135  1.455092  1.489168  1.435328  1.526405  1.610404   \n",
       "15  1.540956  1.376485  1.327440  1.336612  1.263179  1.359534  1.440793   \n",
       "16  1.627469  1.470859  1.482427  1.448848  1.333070  1.440013  1.512434   \n",
       "17  1.651072  1.491681  1.484515  1.464313  1.360271  1.464699  1.539858   \n",
       "18  1.535888  1.369966  1.299983  1.324340  1.265717  1.357762  1.441271   \n",
       "19  1.586703  1.442648  1.515487  1.439112  1.286327  1.399325  1.460736   \n",
       "\n",
       "           7         8         9        10        11        12        13  \\\n",
       "0   0.920262  0.729939  0.652120  0.970634  0.635743  0.703489  0.805269   \n",
       "1   0.782696  0.565505  0.485104  0.803849  0.470100  0.543545  0.638217   \n",
       "2   0.501389  0.581576  0.443087  0.743833  0.490188  0.385481  0.569804   \n",
       "3   0.686891  0.531842  0.430952  0.754916  0.433287  0.464684  0.583206   \n",
       "4   0.819098  0.461462  0.423929  0.714956  0.378836  0.532229  0.567465   \n",
       "5   0.828282  0.550375  0.488636  0.797713  0.459838  0.568908  0.639371   \n",
       "6   0.911698  0.634460  0.578015  0.884264  0.546180  0.658332  0.728072   \n",
       "7   0.000000  0.597986  0.484599  0.563823  0.573024  0.319740  0.469680   \n",
       "8   0.597986  0.000000  0.145898  0.255811  0.098835  0.295107  0.150992   \n",
       "9   0.484599  0.145898  0.000000  0.324222  0.088506  0.166252  0.153265   \n",
       "10  0.563823  0.255811  0.324222  0.000000  0.338087  0.369478  0.175927   \n",
       "11  0.573024  0.098835  0.088506  0.338087  0.000000  0.254660  0.192303   \n",
       "12  0.319740  0.295107  0.166252  0.369478  0.254660  0.000000  0.208395   \n",
       "13  0.469680  0.150992  0.153265  0.175927  0.192303  0.208395  0.000000   \n",
       "14  1.112336  0.976130  1.058227  0.734467  1.067895  1.069627  0.906767   \n",
       "15  1.040725  0.811093  0.908871  0.586941  0.906814  0.944966  0.762855   \n",
       "16  1.266438  0.918901  1.042818  0.746978  1.017670  1.116291  0.914682   \n",
       "17  1.241655  0.932523  1.049564  0.742571  1.031244  1.111359  0.914765   \n",
       "18  0.986888  0.807388  0.893811  0.569590  0.900147  0.915009  0.743789   \n",
       "19  1.385895  0.934037  1.074117  0.828665  1.028028  1.181153  0.972758   \n",
       "\n",
       "          14        15        16        17        18        19  \n",
       "0   1.703425  1.540956  1.627469  1.651072  1.535888  1.586703  \n",
       "1   1.537135  1.376485  1.470859  1.491681  1.369966  1.442648  \n",
       "2   1.455092  1.327440  1.482427  1.484515  1.299983  1.515487  \n",
       "3   1.489168  1.336612  1.448848  1.464313  1.324340  1.439112  \n",
       "4   1.435328  1.263179  1.333070  1.360271  1.265717  1.286327  \n",
       "5   1.526405  1.359534  1.440013  1.464699  1.357762  1.399325  \n",
       "6   1.610404  1.440793  1.512434  1.539858  1.441271  1.460736  \n",
       "7   1.112336  1.040725  1.266438  1.241655  0.986888  1.385895  \n",
       "8   0.976130  0.811093  0.918901  0.932523  0.807388  0.934037  \n",
       "9   1.058227  0.908871  1.042818  1.049564  0.893811  1.074117  \n",
       "10  0.734467  0.586941  0.746978  0.742571  0.569590  0.828665  \n",
       "11  1.067895  0.906814  1.017670  1.031244  0.900147  1.028028  \n",
       "12  1.069627  0.944966  1.116291  1.111359  0.915009  1.181153  \n",
       "13  0.906767  0.762855  0.914682  0.914765  0.743789  0.972758  \n",
       "14  0.000000  0.202759  0.414619  0.333742  0.170300  0.682305  \n",
       "15  0.202759  0.000000  0.283261  0.223446  0.086289  0.526326  \n",
       "16  0.414619  0.283261  0.000000  0.083018  0.368928  0.270161  \n",
       "17  0.333742  0.223446  0.083018  0.000000  0.305572  0.353151  \n",
       "18  0.170300  0.086289  0.368928  0.305572  0.000000  0.611553  \n",
       "19  0.682305  0.526326  0.270161  0.353151  0.611553  0.000000  "
      ]
     },
     "execution_count": 289,
     "metadata": {},
     "output_type": "execute_result"
    }
   ],
   "source": [
    "# your code goes here\n",
    "clusters = data.copy()\n",
    "proximity_mat = pd.DataFrame(distance_matrix(clusters, clusters))\n",
    "#proximity_mat = pd.DataFrame(np.triu(proximity_mat))\n",
    "# may or may not want to do this????\n",
    "proximity_mat.index = proximity_mat.index.map(str)\n",
    "proximity_mat.columns = proximity_mat.columns.astype(str)\n",
    "\n",
    "coph_mat = pd.DataFrame(np.zeros(proximity_mat.shape))\n",
    "coph_mat.index = proximity_mat.index.map(str)\n",
    "coph_mat.columns = proximity_mat.columns.astype(str)\n",
    "og_prox_mat = proximity_mat.copy()\n",
    "proximity_mat"
   ]
  },
  {
   "cell_type": "code",
   "execution_count": 290,
   "metadata": {},
   "outputs": [],
   "source": [
    "def find_min_dist(distances):\n",
    "    min_dist = 10\n",
    "    min_index = None\n",
    "    num_rows = distances.shape[0]\n",
    "    j = 0\n",
    "    for i, distance_arr in distances.iterrows():\n",
    "        if j + 1 >= num_rows:\n",
    "            break\n",
    "        min_idx = distance_arr[j+1:].argmin()\n",
    "        if distance_arr[min_idx] < min_dist:\n",
    "            min_dist = distance_arr[min_idx]\n",
    "            min_index = (distances.index[j], min_idx)\n",
    "        j += 1\n",
    "    return min_index, min_dist"
   ]
  },
  {
   "cell_type": "code",
   "execution_count": 291,
   "metadata": {},
   "outputs": [],
   "source": [
    "new_cluster_dists = None\n",
    "while(len(proximity_mat.columns.tolist()) > 1):\n",
    "    min_idx, min_dist = find_min_dist(proximity_mat)\n",
    "    #print(min_idx)\n",
    "    #print(min_dist)\n",
    "    row, col = min_idx[0], min_idx[1]\n",
    "    new_cluster = \"{} {}\".format(row, col)\n",
    "####################################################################\n",
    "    points = proximity_mat.columns.tolist()\n",
    "    new_cluster_dists = [min(proximity_mat[point][cls_point] for cls_point in min_idx) for point in points[::-1]]\n",
    "    \n",
    "    #print(new_cluster_dists)\n",
    "    \n",
    "    proximity_mat[new_cluster] = new_cluster_dists[::-1]\n",
    "    proximity_mat.loc[new_cluster] = 0\n",
    "    \n",
    "    idxs = list(proximity_mat.index)\n",
    "    idxs.remove(row)\n",
    "    idxs.remove(col)\n",
    "    \n",
    "    proximity_mat = proximity_mat.loc[idxs, idxs]\n",
    "    proximity_mat.loc[new_cluster] = proximity_mat[new_cluster]\n",
    "####################################################################\n",
    "    for i in row.split():\n",
    "        for j in col.split():\n",
    "            coph_mat[i][j] = min_dist\n",
    "            coph_mat[j][i] = min_dist\n",
    "#coph_mat"
   ]
  },
  {
   "cell_type": "code",
   "execution_count": 292,
   "metadata": {},
   "outputs": [],
   "source": [
    "#og_prox_mat"
   ]
  },
  {
   "cell_type": "code",
   "execution_count": 293,
   "metadata": {},
   "outputs": [
    {
     "data": {
      "text/html": [
       "<div>\n",
       "<style>\n",
       "    .dataframe thead tr:only-child th {\n",
       "        text-align: right;\n",
       "    }\n",
       "\n",
       "    .dataframe thead th {\n",
       "        text-align: left;\n",
       "    }\n",
       "\n",
       "    .dataframe tbody tr th {\n",
       "        vertical-align: top;\n",
       "    }\n",
       "</style>\n",
       "<table border=\"1\" class=\"dataframe\">\n",
       "  <thead>\n",
       "    <tr style=\"text-align: right;\">\n",
       "      <th></th>\n",
       "      <th>CPCC</th>\n",
       "      <th>dist</th>\n",
       "    </tr>\n",
       "  </thead>\n",
       "  <tbody>\n",
       "    <tr>\n",
       "      <th>CPCC</th>\n",
       "      <td>1.00000</td>\n",
       "      <td>0.88084</td>\n",
       "    </tr>\n",
       "    <tr>\n",
       "      <th>dist</th>\n",
       "      <td>0.88084</td>\n",
       "      <td>1.00000</td>\n",
       "    </tr>\n",
       "  </tbody>\n",
       "</table>\n",
       "</div>"
      ],
      "text/plain": [
       "         CPCC     dist\n",
       "CPCC  1.00000  0.88084\n",
       "dist  0.88084  1.00000"
      ]
     },
     "execution_count": 293,
     "metadata": {},
     "output_type": "execute_result"
    }
   ],
   "source": [
    "row_num = 0 \n",
    "CPCC = []\n",
    "for i, row in coph_mat.iterrows():\n",
    "    CPCC.extend(row[row_num+1:].values)\n",
    "    row_num+=1\n",
    "\n",
    "row_num = 0\n",
    "dist = []\n",
    "for i, row in og_prox_mat.iterrows():\n",
    "    dist.extend(row[row_num+1:].values)\n",
    "    row_num+=1\n",
    "\n",
    "CPCC_table = pd.DataFrame({'dist': dist, 'CPCC': CPCC})\n",
    "CPCC_table.corr()"
   ]
  },
  {
   "cell_type": "markdown",
   "metadata": {},
   "source": [
    "\n",
    "## Part 3: Density Based Clustering (DBSCAN)\n",
    "\n",
    "For this part we'll be implementing DBSCAN, one of the most popular density based clustering algorithms."
   ]
  },
  {
   "cell_type": "code",
   "execution_count": 12,
   "metadata": {},
   "outputs": [
    {
     "data": {
      "text/plain": [
       "<matplotlib.collections.PathCollection at 0x1065950b8>"
      ]
     },
     "execution_count": 12,
     "metadata": {},
     "output_type": "execute_result"
    },
    {
     "data": {
      "image/png": "[encoded data removed]",
      "text/plain": [
       "<matplotlib.figure.Figure at 0x1064e0550>"
      ]
     },
     "metadata": {},
     "output_type": "display_data"
    }
   ],
   "source": [
    "# get data from text file\n",
    "data = np.genfromtxt(\"data3.csv\", delimiter=\",\")\n",
    "plt.scatter(data[:,0],data[:,1], marker='.')"
   ]
  },
  {
   "cell_type": "markdown",
   "metadata": {},
   "source": [
    "Q7. Run your `kMeansClustering` with `k = 2` and display the output clusters (make sure that different clusters are marked with different colors). Also display the cohesion and separation values for the clusters. What do you observe?"
   ]
  },
  {
   "cell_type": "code",
   "execution_count": 13,
   "metadata": {
    "collapsed": true
   },
   "outputs": [],
   "source": [
    "# your code goes here\n"
   ]
  },
  {
   "cell_type": "markdown",
   "metadata": {},
   "source": [
    "Q8. Implement the DBSCAN algorithm and display output clusters. DBSCAN requires two parameters: epsilon and the minimum number of points required to form a dense region (minPts). A good starting point for epsilon is `0.3` and `minPts = 2`. You should tweak these values and observe how the resultant clusters change."
   ]
  },
  {
   "cell_type": "code",
   "execution_count": 14,
   "metadata": {
    "collapsed": true
   },
   "outputs": [],
   "source": [
    "# your code goes here\n"
   ]
  },
  {
   "cell_type": "markdown",
   "metadata": {},
   "source": [
    "Q9. Display the separation and cohesion values for the output clusters obtained in Q8. How are the clusters obtained in Q8 different from the ones obtained in Q7?"
   ]
  },
  {
   "cell_type": "code",
   "execution_count": 15,
   "metadata": {
    "collapsed": true
   },
   "outputs": [],
   "source": [
    "# your code goes here\n"
   ]
  }
 ],
 "metadata": {
  "kernelspec": {
   "display_name": "Python [default]",
   "language": "python",
   "name": "python3"
  },
  "language_info": {
   "codemirror_mode": {
    "name": "ipython",
    "version": 3
   },
   "file_extension": ".py",
   "mimetype": "text/x-python",
   "name": "python",
   "nbconvert_exporter": "python",
   "pygments_lexer": "ipython3",
   "version": "3.5.3"
  }
 },
 "nbformat": 4,
 "nbformat_minor": 2
}
