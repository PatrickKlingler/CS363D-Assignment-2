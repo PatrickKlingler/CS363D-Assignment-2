{
 "cells": [
  {
   "cell_type": "markdown",
   "metadata": {},
   "source": [
    "## Name(s):"
   ]
  },
  {
   "cell_type": "markdown",
   "metadata": {
    "collapsed": true
   },
   "source": [
    "## Jorge Hernandez\n",
    "## Patrick Klingler"
   ]
  },
  {
   "cell_type": "markdown",
   "metadata": {},
   "source": [
    "# Assignment 2: Intro to Clustering\n",
    "\n",
    "In this assignment we'll be looking at three popular types of clustering algorithms -- K-Means clustering, Hierarchical clustering and Density Based clustering. We'll also look at some measures of cluster quality like cohesion, separation and silhoutte coefficient."
   ]
  },
  {
   "cell_type": "markdown",
   "metadata": {},
   "source": [
    "## Part 1: K Means Clustering\n",
    "\n",
    "In k means clustering you are given a dataset and a hyperparameter k specifying the number of desired of output clusters. The basic idea of k means is to minimize the sum of squared error (SSE) of the output clusters. Unfortunately, the solution to this problem is NP Hard. In this assignment we'll be implementing the iterative algorithm that produces the locally optimal solution to this problem but, guarantees convergence."
   ]
  },
  {
   "cell_type": "code",
   "execution_count": 1,
   "metadata": {},
   "outputs": [
    {
     "name": "stderr",
     "output_type": "stream",
     "text": [
      "/home/nbuser/anaconda3_410/lib/python3.5/site-packages/matplotlib/font_manager.py:273: UserWarning: Matplotlib is building the font cache using fc-list. This may take a moment.\n",
      "  warnings.warn('Matplotlib is building the font cache using fc-list. This may take a moment.')\n",
      "/home/nbuser/anaconda3_410/lib/python3.5/site-packages/matplotlib/font_manager.py:273: UserWarning: Matplotlib is building the font cache using fc-list. This may take a moment.\n",
      "  warnings.warn('Matplotlib is building the font cache using fc-list. This may take a moment.')\n"
     ]
    }
   ],
   "source": [
    "# Some headers\n",
    "import random\n",
    "import numpy as np\n",
    "import pandas as pd\n",
    "import matplotlib.pyplot as plt\n",
    "from numpy.random import rand\n",
    "from numpy.random import randint\n",
    "from numpy import square, sqrt\n",
    "import seaborn as sns\n",
    "sns.set()"
   ]
  },
  {
   "cell_type": "code",
   "execution_count": 2,
   "metadata": {
    "collapsed": true
   },
   "outputs": [],
   "source": [
    "# Enable inline mode for matplotlib so that IPython displays graphs.\n",
    "%matplotlib inline"
   ]
  },
  {
   "cell_type": "code",
   "execution_count": 38,
   "metadata": {
    "collapsed": true
   },
   "outputs": [],
   "source": [
    "# get data from text file\n",
    "data = np.genfromtxt(\"data.csv\", delimiter=\",\")\n"
   ]
  },
  {
   "cell_type": "code",
   "execution_count": 4,
   "metadata": {},
   "outputs": [
    {
     "data": {
      "text/html": [
       "<div>\n",
       "<table border=\"1\" class=\"dataframe\">\n",
       "  <thead>\n",
       "    <tr style=\"text-align: right;\">\n",
       "      <th></th>\n",
       "      <th>0</th>\n",
       "      <th>1</th>\n",
       "    </tr>\n",
       "  </thead>\n",
       "  <tbody>\n",
       "    <tr>\n",
       "      <th>0</th>\n",
       "      <td>-0.731698</td>\n",
       "      <td>-0.874311</td>\n",
       "    </tr>\n",
       "    <tr>\n",
       "      <th>1</th>\n",
       "      <td>-0.547702</td>\n",
       "      <td>-0.580320</td>\n",
       "    </tr>\n",
       "    <tr>\n",
       "      <th>2</th>\n",
       "      <td>-0.762840</td>\n",
       "      <td>-0.885572</td>\n",
       "    </tr>\n",
       "    <tr>\n",
       "      <th>3</th>\n",
       "      <td>-0.340946</td>\n",
       "      <td>-0.810411</td>\n",
       "    </tr>\n",
       "    <tr>\n",
       "      <th>4</th>\n",
       "      <td>-0.749065</td>\n",
       "      <td>-0.399218</td>\n",
       "    </tr>\n",
       "  </tbody>\n",
       "</table>\n",
       "</div>"
      ],
      "text/plain": [
       "          0         1\n",
       "0 -0.731698 -0.874311\n",
       "1 -0.547702 -0.580320\n",
       "2 -0.762840 -0.885572\n",
       "3 -0.340946 -0.810411\n",
       "4 -0.749065 -0.399218"
      ]
     },
     "execution_count": 4,
     "metadata": {},
     "output_type": "execute_result"
    }
   ],
   "source": [
    "data_pd = pd.read_csv(\"data.csv\", header=None)\n",
    "data_pd.head()"
   ]
  },
  {
   "cell_type": "code",
   "execution_count": 5,
   "metadata": {},
   "outputs": [
    {
     "data": {
      "text/plain": [
       "'1.11.3'"
      ]
     },
     "execution_count": 5,
     "metadata": {},
     "output_type": "execute_result"
    }
   ],
   "source": [
    "np.__version__"
   ]
  },
  {
   "cell_type": "code",
   "execution_count": 6,
   "metadata": {
    "collapsed": true
   },
   "outputs": [],
   "source": [
    "def euclid_distance(point, point2):\n",
    "    dist = 0\n",
    "    for p, p2 in zip(point, point2):\n",
    "        dist += (p - p2)**2\n",
    "    return dist**.5\n",
    "def distance_matrix(data, data2):\n",
    "    matrix = []\n",
    "    for point in data:\n",
    "        matrix.append([euclid_distance(point, point2)  for point2 in data2])\n",
    "    return matrix"
   ]
  },
  {
   "cell_type": "markdown",
   "metadata": {},
   "source": [
    "Q1. Implement the function `generateClusters` that returns clusters, given the cluster centroids (`mu`) and the dataset (`data`). Each datapoint needs to be associated to the closest cluster centroid."
   ]
  },
  {
   "cell_type": "code",
   "execution_count": 7,
   "metadata": {
    "collapsed": true
   },
   "outputs": [],
   "source": [
    "def generateClusters(data, mu):\n",
    "    # your code goes here\n",
    "    distances = distance_matrix(data, mu) # Manhattan distance\n",
    "    clusters = [[] for _ in mu]\n",
    "    for data_point, dist in zip(data, distances):\n",
    "        clusters[np.argmin(dist)].append(data_point)\n",
    "    return clusters\n",
    "\n",
    "#clusters = generateClusters(data, data[randint(0, len(data), 3)])"
   ]
  },
  {
   "cell_type": "markdown",
   "metadata": {},
   "source": [
    "Q2. Implement the function `recompute_centroids` that returns the centroids given a set of input clusters. Hint: you need to calculate the mean for each cluster."
   ]
  },
  {
   "cell_type": "code",
   "execution_count": 8,
   "metadata": {
    "collapsed": true
   },
   "outputs": [],
   "source": [
    "def recompute_centroids(clusters):\n",
    "    new_centroids = []\n",
    "    # slow way of getting the meanc coords\n",
    "    # but explicitly shows what is the goal\n",
    "    for cluster in clusters:\n",
    "        # a cluster will be a list of coordinates and we \n",
    "        # want to calculate the mean for every dimension\n",
    "        entries = len(cluster)\n",
    "        if entries == 0:\n",
    "            continue\n",
    "        x = 0\n",
    "        y = 0\n",
    "        for coord in cluster:\n",
    "            x += coord[0]\n",
    "            y += coord[1]\n",
    "        new_centroids.append([x/entries, y/entries])\n",
    "    return new_centroids"
   ]
  },
  {
   "cell_type": "markdown",
   "metadata": {},
   "source": [
    "Q3. Implement the function `checkConvergence` that checks if the termination condition of k means algorithm has reached, i.e. the previous centroids are the same as the new centroids. "
   ]
  },
  {
   "cell_type": "code",
   "execution_count": 9,
   "metadata": {
    "collapsed": true
   },
   "outputs": [],
   "source": [
    "def checkConvergence(mu, previous_mu):\n",
    "    # your code goes here\n",
    "    if previous_mu == None:\n",
    "        # have not converged\n",
    "        return False\n",
    "    return mu == previous_mu"
   ]
  },
  {
   "cell_type": "markdown",
   "metadata": {},
   "source": [
    "Q4. Implement the function `kMeansClustering` that returns k clusters along with their centroids given the input dataset and the desired number of clusters (`k`)."
   ]
  },
  {
   "cell_type": "code",
   "execution_count": 10,
   "metadata": {
    "collapsed": true
   },
   "outputs": [],
   "source": [
    "def kMeansClustering(data, k):\n",
    "    rand_centroids = data[randint(0, len(data), k)]\n",
    "    clusters = generateClusters(data, rand_centroids)\n",
    "    mu = recompute_centroids(clusters)\n",
    "    previous_mu = None\n",
    "    \n",
    "    while not checkConvergence(mu, previous_mu):\n",
    "        clusters = generateClusters(data, mu)\n",
    "        previous_mu = mu\n",
    "        mu = recompute_centroids(clusters)\n",
    "        \n",
    "    return(mu, clusters)"
   ]
  },
  {
   "cell_type": "markdown",
   "metadata": {},
   "source": [
    "Q5. Cluster the data present in `data.csv` using `kMeansClustering` with `k = 5`. Display the clusters using `plt.scatter`, make sure to mark different clusters with a different color. Also calculate the average cohesion and separation for the generated clusters."
   ]
  },
  {
   "cell_type": "code",
   "execution_count": 41,
   "metadata": {},
   "outputs": [
    {
     "data": {
      "image/png": "[encoded data removed]",
      "text/plain": [
       "<matplotlib.figure.Figure at 0x7f2f5ea9cb00>"
      ]
     },
     "metadata": {},
     "output_type": "display_data"
    }
   ],
   "source": [
    "# your code goes here\n",
    "def get_coords(cluster):\n",
    "    x_list = []\n",
    "    y_list = []\n",
    "    for coord in cluster:\n",
    "        x_list.append(coord[0])\n",
    "        y_list.append(coord[1])\n",
    "    return x_list, y_list\n",
    "    \n",
    "mu, clusters = kMeansClustering(data, 5)\n",
    "colors = sns.color_palette()\n",
    "for i, cl in enumerate(clusters):\n",
    "    x_coord, y_coord = get_coords(cl)\n",
    "    plt.scatter(x_coord, y_coord, c=colors[i], lw=0, s=30)\n",
    "plt.show()"
   ]
  },
  {
   "cell_type": "code",
   "execution_count": 42,
   "metadata": {},
   "outputs": [
    {
     "name": "stdout",
     "output_type": "stream",
     "text": [
      "WSS/Cohesion: 28.397657714025037\n",
      "BSS/Separation: 244.31484665761306\n"
     ]
    }
   ],
   "source": [
    "def get_WSS(mu, clusters):\n",
    "    WSS = 0\n",
    "    for centroid, cluster in zip(mu, clusters):\n",
    "        for point in cluster:\n",
    "            WSS += euclid_distance(centroid, point)**2\n",
    "    return WSS\n",
    "print(\"WSS/Cohesion: {}\".format(get_WSS(mu, clusters)))\n",
    "def get_mu_center(data):\n",
    "    return np.array([data[:, 0].mean(), data[:, 1].mean()])\n",
    "mu_total = get_mu_center(data)\n",
    "\n",
    "def get_BSS(mu, mu_total, clusters):\n",
    "    BSS = 0\n",
    "    for i, centroid in enumerate(mu):\n",
    "        BSS += len(clusters[i]) * euclid_distance(centroid, mu_total)**2\n",
    "    return BSS\n",
    "print(\"BSS/Separation: {}\".format(get_BSS(mu, mu_total, clusters)))"
   ]
  },
  {
   "cell_type": "markdown",
   "metadata": {},
   "source": [
    "Q. (Extra Credit) Implement kMeans++, to initialise the centroids in the k Means algorithm. Does this improve performance? Give cohesion and spearation values."
   ]
  },
  {
   "cell_type": "code",
   "execution_count": 12,
   "metadata": {
    "collapsed": true
   },
   "outputs": [],
   "source": [
    "# your code goes here\n"
   ]
  },
  {
   "cell_type": "markdown",
   "metadata": {},
   "source": [
    "## Part 2: Hierarchical Clustering\n",
    "\n",
    "For this part you'll be implementing single-linkage clustering, one of several methods of hierarchical clustering. It is based on grouping clusters in bottom-up fashion (agglomerative clustering), at each step combining two clusters that contain the closest pair of elements not yet belonging to the same cluster as each other. In the beginning of the agglomerative clustering process, each element is in a cluster of its own. The clusters are then sequentially combined into larger clusters, until all elements end up being in the same cluster. At each step, the two clusters separated by the shortest distance are combined. Here distance is defined as the euclidean distance between the two points."
   ]
  },
  {
   "cell_type": "code",
   "execution_count": 13,
   "metadata": {
    "collapsed": true
   },
   "outputs": [],
   "source": [
    "# get data from text file\n",
    "data = np.genfromtxt(\"data2.csv\", delimiter=\",\")"
   ]
  },
  {
   "cell_type": "markdown",
   "metadata": {},
   "source": [
    "Q6. Implement single-linkage clustering. Print the cophenetic correlation coefficient (CPCC) for the resultant clustering."
   ]
  },
  {
   "cell_type": "code",
   "execution_count": 15,
   "metadata": {},
   "outputs": [],
   "source": [
    "# your code goes here\n",
    "clusters = data.copy()\n",
    "proximity_mat = pd.DataFrame(distance_matrix(clusters, clusters))\n",
    "#proximity_mat = pd.DataFrame(np.triu(proximity_mat))\n",
    "# may or may not want to do this????\n",
    "proximity_mat.index = proximity_mat.index.map(str)\n",
    "proximity_mat.columns = proximity_mat.columns.astype(str)\n",
    "\n",
    "coph_mat = pd.DataFrame(np.zeros(proximity_mat.shape))\n",
    "coph_mat.index = proximity_mat.index.map(str)\n",
    "coph_mat.columns = proximity_mat.columns.astype(str)\n",
    "og_prox_mat = proximity_mat.copy()"
   ]
  },
  {
   "cell_type": "code",
   "execution_count": 16,
   "metadata": {
    "collapsed": true
   },
   "outputs": [],
   "source": [
    "def find_min_dist(distances):\n",
    "    min_dist = 10\n",
    "    min_index = None\n",
    "    num_rows = distances.shape[0]\n",
    "    j = 0\n",
    "    for i, distance_arr in distances.iterrows():\n",
    "        if j + 1 >= num_rows:\n",
    "            break\n",
    "        min_idx = distance_arr[j+1:].argmin()\n",
    "        if distance_arr[min_idx] < min_dist:\n",
    "            min_dist = distance_arr[min_idx]\n",
    "            min_index = (distances.index[j], min_idx)\n",
    "        j += 1\n",
    "    return min_index, min_dist"
   ]
  },
  {
   "cell_type": "code",
   "execution_count": 17,
   "metadata": {
    "collapsed": true
   },
   "outputs": [],
   "source": [
    "new_cluster_dists = None\n",
    "while(len(proximity_mat.columns.tolist()) > 1):\n",
    "    min_idx, min_dist = find_min_dist(proximity_mat)\n",
    "    #print(min_idx)\n",
    "    #print(min_dist)\n",
    "    row, col = min_idx[0], min_idx[1]\n",
    "    new_cluster = \"{} {}\".format(row, col)\n",
    "    points = proximity_mat.columns.tolist()\n",
    "    new_cluster_dists = [min(proximity_mat[point][cls_point] for cls_point in min_idx) for point in points]\n",
    "    \n",
    "    #print(new_cluster_dists)\n",
    "    \n",
    "    proximity_mat[new_cluster] = new_cluster_dists\n",
    "    proximity_mat.loc[new_cluster] = 0\n",
    "    \n",
    "    idxs = list(proximity_mat.index)\n",
    "    idxs.remove(row)\n",
    "    idxs.remove(col)\n",
    "    \n",
    "    proximity_mat = proximity_mat.loc[idxs, idxs]\n",
    "    proximity_mat.loc[new_cluster] = proximity_mat[new_cluster]\n",
    "    for i in row.split():\n",
    "        for j in col.split():\n",
    "            coph_mat[i][j] = min_dist\n",
    "            coph_mat[j][i] = min_dist\n",
    "#coph_mat"
   ]
  },
  {
   "cell_type": "code",
   "execution_count": 18,
   "metadata": {},
   "outputs": [
    {
     "data": {
      "text/html": [
       "<div>\n",
       "<table border=\"1\" class=\"dataframe\">\n",
       "  <thead>\n",
       "    <tr style=\"text-align: right;\">\n",
       "      <th></th>\n",
       "      <th>CPCC</th>\n",
       "      <th>dist</th>\n",
       "    </tr>\n",
       "  </thead>\n",
       "  <tbody>\n",
       "    <tr>\n",
       "      <th>CPCC</th>\n",
       "      <td>1.00000</td>\n",
       "      <td>0.88084</td>\n",
       "    </tr>\n",
       "    <tr>\n",
       "      <th>dist</th>\n",
       "      <td>0.88084</td>\n",
       "      <td>1.00000</td>\n",
       "    </tr>\n",
       "  </tbody>\n",
       "</table>\n",
       "</div>"
      ],
      "text/plain": [
       "         CPCC     dist\n",
       "CPCC  1.00000  0.88084\n",
       "dist  0.88084  1.00000"
      ]
     },
     "execution_count": 18,
     "metadata": {},
     "output_type": "execute_result"
    }
   ],
   "source": [
    "row_num = 0 \n",
    "CPCC = []\n",
    "for i, row in coph_mat.iterrows():\n",
    "    CPCC.extend(row[row_num+1:].values)\n",
    "    row_num+=1\n",
    "\n",
    "row_num = 0\n",
    "dist = []\n",
    "for i, row in og_prox_mat.iterrows():\n",
    "    dist.extend(row[row_num+1:].values)\n",
    "    row_num+=1\n",
    "\n",
    "CPCC_table = pd.DataFrame({'dist': dist, 'CPCC': CPCC})\n",
    "CPCC_table.corr()"
   ]
  },
  {
   "cell_type": "markdown",
   "metadata": {},
   "source": [
    "\n",
    "## Part 3: Density Based Clustering (DBSCAN)\n",
    "\n",
    "For this part we'll be implementing DBSCAN, one of the most popular density based clustering algorithms."
   ]
  },
  {
   "cell_type": "code",
   "execution_count": 44,
   "metadata": {},
   "outputs": [
    {
     "data": {
      "text/plain": [
       "<matplotlib.collections.PathCollection at 0x7f2f5bbfe160>"
      ]
     },
     "execution_count": 44,
     "metadata": {},
     "output_type": "execute_result"
    },
    {
     "data": {
      "image/png": "[encoded data removed]",
      "text/plain": [
       "<matplotlib.figure.Figure at 0x7f2f638887b8>"
      ]
     },
     "metadata": {},
     "output_type": "display_data"
    }
   ],
   "source": [
    "# get data from text file\n",
    "data = np.genfromtxt(\"data3.csv\", delimiter=\",\")\n",
    "plt.scatter(data[:,0],data[:,1], marker='.')"
   ]
  },
  {
   "cell_type": "markdown",
   "metadata": {},
   "source": [
    "Q7. Run your `kMeansClustering` with `k = 2` and display the output clusters (make sure that different clusters are marked with different colors). Also display the cohesion and separation values for the clusters. What do you observe?"
   ]
  },
  {
   "cell_type": "code",
   "execution_count": 45,
   "metadata": {},
   "outputs": [
    {
     "data": {
      "image/png": "[encoded data removed]",
      "text/plain": [
       "<matplotlib.figure.Figure at 0x7f2f5bbda9e8>"
      ]
     },
     "metadata": {},
     "output_type": "display_data"
    }
   ],
   "source": [
    "# your code goes here\n",
    "def get_coords(cluster):\n",
    "    x_list = []\n",
    "    y_list = []\n",
    "    for coord in cluster:\n",
    "        x_list.append(coord[0])\n",
    "        y_list.append(coord[1])\n",
    "    return x_list, y_list\n",
    "    \n",
    "mu, clusters = kMeansClustering(data, 2)\n",
    "colors = sns.color_palette()\n",
    "for i, cl in enumerate(clusters):\n",
    "    x_coord, y_coord = get_coords(cl)\n",
    "    plt.scatter(x_coord, y_coord, c=colors[i], lw=0, s=30)\n",
    "plt.show()"
   ]
  },
  {
   "cell_type": "code",
   "execution_count": 46,
   "metadata": {},
   "outputs": [
    {
     "name": "stdout",
     "output_type": "stream",
     "text": [
      "WSS/Cohesion: 40.77622830320396\n",
      "BSS/Separation: 59.44569875647004\n"
     ]
    }
   ],
   "source": [
    "print(\"WSS/Cohesion: {}\".format(get_WSS(mu, clusters)))\n",
    "mu_total = get_mu_center(data)\n",
    "print(\"BSS/Separation: {}\".format(get_BSS(mu, mu_total, clusters)))"
   ]
  },
  {
   "cell_type": "markdown",
   "metadata": {},
   "source": [
    "Q8. Implement the DBSCAN algorithm and display output clusters. DBSCAN requires two parameters: epsilon and the minimum number of points required to form a dense region (minPts). A good starting point for epsilon is `0.3` and `minPts = 2`. You should tweak these values and observe how the resultant clusters change."
   ]
  },
  {
   "cell_type": "code",
   "execution_count": 14,
   "metadata": {
    "collapsed": true
   },
   "outputs": [],
   "source": [
    "# your code goes here\n"
   ]
  },
  {
   "cell_type": "markdown",
   "metadata": {},
   "source": [
    "Q9. Display the separation and cohesion values for the output clusters obtained in Q8. How are the clusters obtained in Q8 different from the ones obtained in Q7?"
   ]
  },
  {
   "cell_type": "code",
   "execution_count": 15,
   "metadata": {
    "collapsed": true
   },
   "outputs": [],
   "source": [
    "# your code goes here\n"
   ]
  }
 ],
 "metadata": {
  "kernelspec": {
   "display_name": "Python 3",
   "language": "python",
   "name": "python3"
  },
  "language_info": {
   "codemirror_mode": {
    "name": "ipython",
    "version": 3
   },
   "file_extension": ".py",
   "mimetype": "text/x-python",
   "name": "python",
   "nbconvert_exporter": "python",
   "pygments_lexer": "ipython3",
   "version": "3.5.1"
  }
 },
 "nbformat": 4,
 "nbformat_minor": 2
}
